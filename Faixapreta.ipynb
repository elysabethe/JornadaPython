{
  "nbformat": 4,
  "nbformat_minor": 0,
  "metadata": {
    "colab": {
      "name": "Faixapretaempy.ipynb",
      "provenance": [],
      "collapsed_sections": [],
      "authorship_tag": "ABX9TyNtmPZ6a79Rjr43A8EZECo6",
      "include_colab_link": true
    },
    "kernelspec": {
      "name": "python3",
      "display_name": "Python 3"
    },
    "language_info": {
      "name": "python"
    }
  },
  "cells": [
    {
      "cell_type": "markdown",
      "metadata": {
        "id": "view-in-github",
        "colab_type": "text"
      },
      "source": [
        "<a href=\"https://colab.research.google.com/github/elysabethe/JornadaPython/blob/main/Faixapreta.ipynb\" target=\"_parent\"><img src=\"https://colab.research.google.com/assets/colab-badge.svg\" alt=\"Open In Colab\"/></a>"
      ]
    },
    {
      "cell_type": "markdown",
      "metadata": {
        "id": "vMeIWT4Twwwz"
      },
      "source": [
        "# Introdução a Python\n"
      ]
    },
    {
      "cell_type": "code",
      "metadata": {
        "id": "xaHDQTWPwoVf"
      },
      "source": [
        "  # Escopo pai\n",
        "      #Escopo filho\n",
        "         # Escopo Neto\n"
      ],
      "execution_count": 54,
      "outputs": []
    },
    {
      "cell_type": "markdown",
      "metadata": {
        "id": "nWrr52WKw5j_"
      },
      "source": [
        "\n",
        "#Variáveis"
      ]
    },
    {
      "cell_type": "code",
      "metadata": {
        "id": "iAyUxU-NxDB1"
      },
      "source": [
        "nome = 'elysa'"
      ],
      "execution_count": 2,
      "outputs": []
    },
    {
      "cell_type": "code",
      "metadata": {
        "colab": {
          "base_uri": "https://localhost:8080/",
          "height": 35
        },
        "id": "nX0bIshkxi6u",
        "outputId": "ebf24eb0-5dc2-4fa1-f5d3-31321116e261"
      },
      "source": [
        "nome"
      ],
      "execution_count": 3,
      "outputs": [
        {
          "output_type": "execute_result",
          "data": {
            "application/vnd.google.colaboratory.intrinsic+json": {
              "type": "string"
            },
            "text/plain": [
              "'elysa'"
            ]
          },
          "metadata": {
            "tags": []
          },
          "execution_count": 3
        }
      ]
    },
    {
      "cell_type": "code",
      "metadata": {
        "id": "vuFFHHvOyEHA"
      },
      "source": [
        "n1 = 8"
      ],
      "execution_count": 32,
      "outputs": []
    },
    {
      "cell_type": "code",
      "metadata": {
        "id": "G3QGw0HUyIaQ"
      },
      "source": [
        "n2 = 7"
      ],
      "execution_count": 20,
      "outputs": []
    },
    {
      "cell_type": "code",
      "metadata": {
        "id": "g9ylE8viyK4D"
      },
      "source": [
        "soma=0"
      ],
      "execution_count": 27,
      "outputs": []
    },
    {
      "cell_type": "code",
      "metadata": {
        "id": "NNB5IWbU0IB2"
      },
      "source": [
        "soma=n1+n2"
      ],
      "execution_count": 34,
      "outputs": []
    },
    {
      "cell_type": "code",
      "metadata": {
        "colab": {
          "base_uri": "https://localhost:8080/"
        },
        "id": "GJbMyHQq0Ki0",
        "outputId": "d8004f97-9005-4087-db96-a9684e5e6976"
      },
      "source": [
        "soma\n"
      ],
      "execution_count": 35,
      "outputs": [
        {
          "output_type": "execute_result",
          "data": {
            "text/plain": [
              "15"
            ]
          },
          "metadata": {
            "tags": []
          },
          "execution_count": 35
        }
      ]
    },
    {
      "cell_type": "markdown",
      "metadata": {
        "id": "043jqbWfw3sf"
      },
      "source": [
        "### Operações Matemáticas"
      ]
    },
    {
      "cell_type": "code",
      "metadata": {
        "id": "lEHP0JId02Ze"
      },
      "source": [
        "*soma usamos +\n",
        "*subtracao usamos -\n",
        "*multiplicacao usamos *\n",
        "*divisao usamos + /"
      ],
      "execution_count": null,
      "outputs": []
    },
    {
      "cell_type": "code",
      "metadata": {
        "id": "tTCSkI9O1Oag"
      },
      "source": [
        "soma = 10+15"
      ],
      "execution_count": 37,
      "outputs": []
    },
    {
      "cell_type": "code",
      "metadata": {
        "colab": {
          "base_uri": "https://localhost:8080/"
        },
        "id": "9LK1N-cX1T6Y",
        "outputId": "81a389ff-7097-471b-f1fe-47f98db559f4"
      },
      "source": [
        "soma\n"
      ],
      "execution_count": 38,
      "outputs": [
        {
          "output_type": "execute_result",
          "data": {
            "text/plain": [
              "25"
            ]
          },
          "metadata": {
            "tags": []
          },
          "execution_count": 38
        }
      ]
    },
    {
      "cell_type": "code",
      "metadata": {
        "id": "pgH32eLu1Vym"
      },
      "source": [
        "subtracao = 50-12"
      ],
      "execution_count": 45,
      "outputs": []
    },
    {
      "cell_type": "code",
      "metadata": {
        "id": "amT_ECmE1ZKt"
      },
      "source": [
        "subtracao"
      ],
      "execution_count": null,
      "outputs": []
    },
    {
      "cell_type": "code",
      "metadata": {
        "id": "PiBc0cxd1hkq"
      },
      "source": [
        "multiplicacao = 4*9\n"
      ],
      "execution_count": 47,
      "outputs": []
    },
    {
      "cell_type": "code",
      "metadata": {
        "id": "dBkEv57K1kX8"
      },
      "source": [
        "multiplicacao"
      ],
      "execution_count": null,
      "outputs": []
    },
    {
      "cell_type": "code",
      "metadata": {
        "id": "ixR4s0yJ1lwn"
      },
      "source": [
        "divisao = 5/5"
      ],
      "execution_count": 49,
      "outputs": []
    },
    {
      "cell_type": "code",
      "metadata": {
        "id": "qGHf07st1pc7"
      },
      "source": [
        "divisao"
      ],
      "execution_count": null,
      "outputs": []
    },
    {
      "cell_type": "markdown",
      "metadata": {
        "id": "X6CUFXMe2fOW"
      },
      "source": [
        "# Métodos de Entrada\n",
        "formas de receber dados do usuário ou seja enviar valores para o programa\n",
        "\n",
        "No python usamos _input()_\n",
        "passamos o texto por parametro"
      ]
    },
    {
      "cell_type": "code",
      "metadata": {
        "colab": {
          "base_uri": "https://localhost:8080/",
          "height": 129
        },
        "id": "qUO8BZ7K4DQd",
        "outputId": "5c7c118c-1fb4-401b-bed1-bf00b9b0f422"
      },
      "source": [
        " nome input('Qual é o seu nome?')"
      ],
      "execution_count": 58,
      "outputs": [
        {
          "output_type": "error",
          "ename": "SyntaxError",
          "evalue": "ignored",
          "traceback": [
            "\u001b[0;36m  File \u001b[0;32m\"<ipython-input-58-f3abed830714>\"\u001b[0;36m, line \u001b[0;32m1\u001b[0m\n\u001b[0;31m    nome input('Qual é o seu nome?' )\u001b[0m\n\u001b[0m             ^\u001b[0m\n\u001b[0;31mSyntaxError\u001b[0m\u001b[0;31m:\u001b[0m invalid syntax\n"
          ]
        }
      ]
    },
    {
      "cell_type": "code",
      "metadata": {
        "colab": {
          "base_uri": "https://localhost:8080/"
        },
        "id": "qNUzygFC5VZI",
        "outputId": "6948a682-4a7e-4d1b-98d4-1dcfdd7b3055"
      },
      "source": [
        "nome = input('oiii ')"
      ],
      "execution_count": 61,
      "outputs": [
        {
          "output_type": "stream",
          "text": [
            "oiii oii\n"
          ],
          "name": "stdout"
        }
      ]
    },
    {
      "cell_type": "code",
      "metadata": {
        "id": "DX6pKB1c451l"
      },
      "source": [
        "#conversaodedados de string para int\n"
      ],
      "execution_count": null,
      "outputs": []
    },
    {
      "cell_type": "code",
      "metadata": {
        "colab": {
          "base_uri": "https://localhost:8080/"
        },
        "id": "TTF6KSN84-nC",
        "outputId": "9a429bae-c60d-48c1-d16a-ccbead914aa2"
      },
      "source": [
        "bool(0)"
      ],
      "execution_count": 59,
      "outputs": [
        {
          "output_type": "execute_result",
          "data": {
            "text/plain": [
              "False"
            ]
          },
          "metadata": {
            "tags": []
          },
          "execution_count": 59
        }
      ]
    },
    {
      "cell_type": "code",
      "metadata": {
        "id": "QlzUqC0B4dUJ"
      },
      "source": [
        ""
      ],
      "execution_count": null,
      "outputs": []
    },
    {
      "cell_type": "markdown",
      "metadata": {
        "id": "546EHv0_90-L"
      },
      "source": [
        "##  Concatenação"
      ]
    },
    {
      "cell_type": "code",
      "metadata": {
        "id": "GV01HhVY9_Bt"
      },
      "source": [
        "nome = 'Elysa rainhaaaaa'"
      ],
      "execution_count": 83,
      "outputs": []
    },
    {
      "cell_type": "code",
      "metadata": {
        "colab": {
          "base_uri": "https://localhost:8080/"
        },
        "id": "lL2kKjqt-FgH",
        "outputId": "7d759e75-2813-4189-ebfa-05785241dad5"
      },
      "source": [
        "print('Olá, eu me chamo', nome)"
      ],
      "execution_count": 84,
      "outputs": [
        {
          "output_type": "stream",
          "text": [
            "Olá, eu me chamo Elysa rainhaaaaa\n"
          ],
          "name": "stdout"
        }
      ]
    },
    {
      "cell_type": "markdown",
      "metadata": {
        "id": "8itIIo3w_VdU"
      },
      "source": [
        "# Média\n",
        "\n",
        "    #vamos calcular a média bb\n"
      ]
    },
    {
      "cell_type": "code",
      "metadata": {
        "id": "gWSP23-y_bp7"
      },
      "source": [
        ""
      ],
      "execution_count": null,
      "outputs": []
    },
    {
      "cell_type": "code",
      "metadata": {
        "id": "DGfavted_h-u"
      },
      "source": [
        ""
      ],
      "execution_count": null,
      "outputs": []
    },
    {
      "cell_type": "markdown",
      "metadata": {
        "id": "il3sEji0_iVj"
      },
      "source": [
        "# Listas\n",
        "\n",
        "na pegada dos arrays meu amorzinho s2\n",
        "lembre-se que é o índice que determina o rolê\n"
      ]
    },
    {
      "cell_type": "code",
      "metadata": {
        "id": "o9SRnWiAA3Jb"
      },
      "source": [
        " lista=['cachorro', 'gato']"
      ],
      "execution_count": 85,
      "outputs": []
    },
    {
      "cell_type": "code",
      "metadata": {
        "id": "H0Wr8qBXBLlD"
      },
      "source": [
        "mel = lista[0]"
      ],
      "execution_count": null,
      "outputs": []
    },
    {
      "cell_type": "code",
      "metadata": {
        "id": "_K1_vIIVBRvf"
      },
      "source": [
        "pepa = lista[1]"
      ],
      "execution_count": 86,
      "outputs": []
    },
    {
      "cell_type": "code",
      "metadata": {
        "colab": {
          "base_uri": "https://localhost:8080/"
        },
        "id": "rmEU-RYmBVXo",
        "outputId": "94d99938-789e-42e4-c2ac-f2d8fc2169ca"
      },
      "source": [
        "print(lista)"
      ],
      "execution_count": 87,
      "outputs": [
        {
          "output_type": "stream",
          "text": [
            "['cachorro', 'gato']\n"
          ],
          "name": "stdout"
        }
      ]
    },
    {
      "cell_type": "code",
      "metadata": {
        "colab": {
          "base_uri": "https://localhost:8080/"
        },
        "id": "loVSSI2CBaBZ",
        "outputId": "2700e74f-83ad-4cf4-cfe7-1a32629c89b4"
      },
      "source": [
        "print(lista[0])"
      ],
      "execution_count": 88,
      "outputs": [
        {
          "output_type": "stream",
          "text": [
            "cachorro\n"
          ],
          "name": "stdout"
        }
      ]
    },
    {
      "cell_type": "code",
      "metadata": {
        "colab": {
          "base_uri": "https://localhost:8080/"
        },
        "id": "s1Se97BdBe5g",
        "outputId": "b6f55f17-b186-45c9-8b8a-93e33c89a690"
      },
      "source": [
        "print('Lista dos animais', lista)"
      ],
      "execution_count": 90,
      "outputs": [
        {
          "output_type": "stream",
          "text": [
            "Lista dos animais ['cachorro', 'gato']\n"
          ],
          "name": "stdout"
        }
      ]
    },
    {
      "cell_type": "code",
      "metadata": {
        "colab": {
          "base_uri": "https://localhost:8080/"
        },
        "id": "MVL75MqABvcT",
        "outputId": "fa01f2b8-803b-45a0-e821-17126a128135"
      },
      "source": [
        "#todos os valores em um array\n",
        "type(lista)"
      ],
      "execution_count": 91,
      "outputs": [
        {
          "output_type": "execute_result",
          "data": {
            "text/plain": [
              "list"
            ]
          },
          "metadata": {
            "tags": []
          },
          "execution_count": 91
        }
      ]
    },
    {
      "cell_type": "code",
      "metadata": {
        "id": "3ee0uc96B4tK"
      },
      "source": [
        "lista_dados = ['1', '2'], ['3','4']"
      ],
      "execution_count": 102,
      "outputs": []
    },
    {
      "cell_type": "code",
      "metadata": {
        "colab": {
          "base_uri": "https://localhost:8080/"
        },
        "id": "vea9XfZjDN0B",
        "outputId": "9f1070a5-dd87-4713-d7e5-0f15779b2930"
      },
      "source": [
        "print(f'A matriz de leves {lista_dados[0][1]}')"
      ],
      "execution_count": 104,
      "outputs": [
        {
          "output_type": "stream",
          "text": [
            "A matriz de leves 2\n"
          ],
          "name": "stdout"
        }
      ]
    },
    {
      "cell_type": "code",
      "metadata": {
        "colab": {
          "base_uri": "https://localhost:8080/"
        },
        "id": "_KZEQSMAE2P1",
        "outputId": "0e467aee-10d7-4a91-9033-0a9f5d613b93"
      },
      "source": [
        "len(lista_dados)"
      ],
      "execution_count": 105,
      "outputs": [
        {
          "output_type": "execute_result",
          "data": {
            "text/plain": [
              "2"
            ]
          },
          "metadata": {
            "tags": []
          },
          "execution_count": 105
        }
      ]
    },
    {
      "cell_type": "markdown",
      "metadata": {
        "id": "qq5XZ8RiFLbd"
      },
      "source": [
        "# Condicionais\n",
        "    if =>se\n",
        "    elif => senao, se\n",
        "    else => senao\n",
        "\n",
        "    _lembre de colocar os:_\n",
        "\n",
        "    ex: if nome =='Felipe':\n",
        "    else:\n",
        "    print('a')\n",
        "\n",
        "\n"
      ]
    },
    {
      "cell_type": "markdown",
      "metadata": {
        "id": "R8bkiuD850ch"
      },
      "source": [
        "# Calculadora"
      ]
    },
    {
      "cell_type": "code",
      "metadata": {
        "colab": {
          "base_uri": "https://localhost:8080/",
          "height": 129
        },
        "id": "Th8mlESS56Y6",
        "outputId": "11865250-4b37-45ed-a80b-63c1737cfedf"
      },
      "source": [
        "print('Informe a operação desejada:')\n",
        "print('             1. +              ')\n",
        "print('            2.  -              ')\n",
        "print('            3.  *              ')\n",
        "print('             4. /              ')\n",
        "op = input()\n",
        "\n",
        "      if op == 1 : \n",
        "print(n1+n2) \n",
        "      elif op=='2':\n",
        "resultado = n1-n2\n",
        "n1 = float(input('Informe o primeiro valor: '))\n",
        "n2 = float(input('Informe o segundo valor: '))\n",
        "\n",
        "\n",
        "print('A operação ',op,'gerou o resultado: ', resultado)"
      ],
      "execution_count": 116,
      "outputs": [
        {
          "output_type": "error",
          "ename": "IndentationError",
          "evalue": "ignored",
          "traceback": [
            "\u001b[0;36m  File \u001b[0;32m\"<ipython-input-116-643475405495>\"\u001b[0;36m, line \u001b[0;32m8\u001b[0m\n\u001b[0;31m    if op == 1 :\u001b[0m\n\u001b[0m    ^\u001b[0m\n\u001b[0;31mIndentationError\u001b[0m\u001b[0;31m:\u001b[0m unexpected indent\n"
          ]
        }
      ]
    }
  ]
}